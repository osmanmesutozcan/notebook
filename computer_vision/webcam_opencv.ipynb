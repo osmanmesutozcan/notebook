{
 "cells": [
  {
   "cell_type": "markdown",
   "metadata": {},
   "source": [
    "## Webcam workflow for openCV\n",
    "\n",
    "..."
   ]
  },
  {
   "cell_type": "code",
   "execution_count": null,
   "metadata": {},
   "outputs": [],
   "source": [
    "%matplotlib inline\n",
    "\n",
    "import cv2 as cv\n",
    "import matplotlib.pyplot as plt\n",
    "\n",
    "from IPython.display import display, clear_output"
   ]
  },
  {
   "cell_type": "markdown",
   "metadata": {},
   "source": [
    "Use `VideoCapture` method to start streaming from webcam.\n",
    "`0` is the descriptor for webcam. VideoCapture class can use a video file to\n",
    "stream data as well."
   ]
  },
  {
   "cell_type": "code",
   "execution_count": null,
   "metadata": {},
   "outputs": [],
   "source": [
    "vc = cv.VideoCapture (0)\n",
    "\n",
    "if vc.isOpened ():\n",
    "    is_capturing, frame = vc.read ()\n",
    "    frame = cv.cvtColor (frame, cv.COLOR_BGR2RGB)\n",
    "    webcam_preview = plt.imshow (frame)\n",
    "else:\n",
    "    is_capturing = False\n",
    "    \n",
    "while is_capturing:\n",
    "    try:\n",
    "        is_capturing, frame = vc.read ()\n",
    "        frame = cv.cvtColor (frame, cv.COLOR_BGR2RGB)\n",
    "        webcam_preview.set_data (frame)\n",
    "        plt.draw ()\n",
    "        \n",
    "        clear_output (wait=True)\n",
    "        display (plt.gcf ())\n",
    "        \n",
    "        plt.pause (0.1)\n",
    "    except KeyboardInterrupt:\n",
    "        vc.release ()"
   ]
  }
 ],
 "metadata": {
  "kernelspec": {
   "display_name": "Python 3",
   "language": "python",
   "name": "python3"
  },
  "language_info": {
   "codemirror_mode": {
    "name": "ipython",
    "version": 3
   },
   "file_extension": ".py",
   "mimetype": "text/x-python",
   "name": "python",
   "nbconvert_exporter": "python",
   "pygments_lexer": "ipython3",
   "version": "3.6.4"
  }
 },
 "nbformat": 4,
 "nbformat_minor": 2
}
