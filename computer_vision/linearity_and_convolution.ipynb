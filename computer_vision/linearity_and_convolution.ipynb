{
 "cells": [
  {
   "cell_type": "code",
   "execution_count": 1,
   "metadata": {
    "collapsed": true
   },
   "outputs": [],
   "source": [
    "import numpy as np\n",
    "import matplotlib.pyplot as plt"
   ]
  },
  {
   "cell_type": "markdown",
   "metadata": {},
   "source": [
    "#### Linear operator\n",
    "An operator $H$ (or system) is **linear** if two properties hold ($f1$ and $f2$ are some functions, $a$ is\n",
    "a constant):\n",
    "- Additivity:\n",
    "    * $H(f1 + f2) = H(f1) + H(f2)$\n",
    "    \n",
    "- Multiplicative scaling (Homogeneity of degree 1):\n",
    "    * $H(a. f1) = a.H(f1)$\n",
    "    \n",
    "You can apply linear operators separately to the image and it will give the same result as if you combined\n",
    "the operators and then applied it to the image.\n",
    "\n",
    "<br></br>\n",
    "\n",
    "#### Correlation vs Convolution\n",
    "- **Cross-correlation:**\n",
    "Notation for cc operator -- $G = H \\bigoplus F$\n",
    "$$G[i,j] = \\sum_{u=-k}^k \\sum_{v=-k}^k H[u,v]F[i + u, j + v]$$\n",
    "\n",
    "- **Convolution:** \n",
    "Flips in both dimensions.\n",
    "Notation for conv. operator -- $G = H ^* F$\n",
    "\n",
    "$$G[i,j] = \\sum_{u=-k}^k \\sum_{v=-k}^k H[u,v]F[i - u, j - v]$$\n",
    "\n",
    "<br></br>\n",
    "\n",
    "#### Shift invariant:\n",
    "Operator behaves the same everywhere, i.e. the value of the output depends on the pattern in the image\n",
    "neighborhood, not the position of the neighborhood."
   ]
  },
  {
   "cell_type": "code",
   "execution_count": null,
   "metadata": {
    "collapsed": true
   },
   "outputs": [],
   "source": []
  }
 ],
 "metadata": {
  "kernelspec": {
   "display_name": "Python 3",
   "language": "python",
   "name": "python3"
  },
  "language_info": {
   "codemirror_mode": {
    "name": "ipython",
    "version": 3
   },
   "file_extension": ".py",
   "mimetype": "text/x-python",
   "name": "python",
   "nbconvert_exporter": "python",
   "pygments_lexer": "ipython3",
   "version": "3.5.4"
  }
 },
 "nbformat": 4,
 "nbformat_minor": 2
}
