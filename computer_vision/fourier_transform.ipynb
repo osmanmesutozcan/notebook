{
 "cells": [
  {
   "cell_type": "markdown",
   "metadata": {},
   "source": [
    "### Basis Set\n",
    "\n",
    "Suppose that $B = {v_1, ..., v_n}$ is a finite subset of a vector space V over a **field**\n",
    "F (such as the **real** or **complex** numbers R or C) then B is a basis if it satisfies\n",
    "the following conditions:\n",
    "- **Linear independence:** For all $a_1,...a_n \\in F$, if $a_1 v_1 + ... + a_n v_n = 0$, then\n",
    "    necessarily $a_1 = ... = a_n = 0$\n",
    "    \n",
    "- **Spanning Property:** For every x in V it is possible to choose $a_1, ..., a_n \\in F$ such\n",
    "    that $x = a_1 v_1 + ... + a_n v_n = 0$\n",
    "\n",
    "\n",
    "**Basis Set** is:\n",
    "\n",
    "A basis B of a **vector space** V is a **linearly independent** subset of V that **spans** V.\n"
   ]
  },
  {
   "cell_type": "code",
   "execution_count": null,
   "metadata": {
    "collapsed": true
   },
   "outputs": [],
   "source": []
  }
 ],
 "metadata": {
  "kernelspec": {
   "display_name": "Python 3",
   "language": "python",
   "name": "python3"
  },
  "language_info": {
   "codemirror_mode": {
    "name": "ipython",
    "version": 3
   },
   "file_extension": ".py",
   "mimetype": "text/x-python",
   "name": "python",
   "nbconvert_exporter": "python",
   "pygments_lexer": "ipython3",
   "version": "3.5.4"
  }
 },
 "nbformat": 4,
 "nbformat_minor": 2
}
