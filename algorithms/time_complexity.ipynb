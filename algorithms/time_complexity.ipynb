{
 "cells": [
  {
   "cell_type": "code",
   "execution_count": 1,
   "metadata": {},
   "outputs": [],
   "source": [
    "%matplotlib inline\n",
    "import math\n",
    "import timeit\n",
    "import matplotlib.pyplot as plt"
   ]
  },
  {
   "cell_type": "markdown",
   "metadata": {},
   "source": [
    "**Time complexity** is the computational complexity that measures or estimates the units of time taken for running an algorithm.\n",
    "\n",
    "Time complexity **IS**;\n",
    "    - Proportion of the input/run time of an algorithm.\n",
    "\n",
    "Time complexity is **NOT**;\n",
    "    - The speed of the program.\n"
   ]
  },
  {
   "cell_type": "markdown",
   "metadata": {},
   "source": [
    "## How to analyze time complexity?\n",
    "\n",
    "Let's explain this using example functions.\n",
    "\n",
    "#### Sum function\n",
    "``` python\n",
    "def sum(a, b):\n",
    "    return a + b\n",
    "    # ^      ^\n",
    "    # 1      1    Tsum = 2units\n",
    "```\n",
    "By looking this example we can say;\n",
    "    - operations like `+.-.*,/` are constant time operations.\n",
    "    - assignments are constant time operations.\n",
    "    \n",
    "Most of the complexity analysis will simply ignore the constant time operations in an algorithm. In that case,\n",
    "we can say that $Tsum = C$. This is the definition of a constant function. Means, for given `N` value return value is always `C`. We can say that this algorithm has $O(1)$ complexity (constant time).\n",
    "\n",
    "---\n",
    "#### Sum list function\n",
    "``` python\n",
    "def sum_list(A): # operations cost    note\n",
    "    sum = 0      # 1          1     \n",
    "    for n in A:  # 2          2(n+1)  +1 operation extra for false comparison.\n",
    "        sum += n # 2          2\n",
    "    return sum   # 1          1\n",
    "```\n",
    "\n",
    "$Tsum\\_list = 1 + 2(n + 1) + 2 + 1 = 4n + 4$ units of operation. If we can recall a linear function definition, which is $mx + n$, we can see that $4n + 4$ is a **linear** function. We can say that this algorithm has $O(n)$ complexity (linear time).\n",
    "\n",
    "------\n",
    "\n",
    "#### Sum matrix function\n",
    "``` python\n",
    "def sum_matrix(M):    # operations cost\n",
    "    sum = 0           # 1          1     \n",
    "    for A in M:       # 2          2(n+1)\n",
    "        for n in A:   # 2          2(n+1)\n",
    "            sum += n  # 2          2\n",
    "    return sum        # 1          1\n",
    "```\n",
    "$Tsum\\_matrix = 1 + 2(n + 1) * 2(n + 1) + 2 + 1 = 4n^2 + 8n + 8$. Complexity of this algorithm is $O(n^2)$ (exponential time) I will explain how we arrived to this conclusion."
   ]
  },
  {
   "cell_type": "markdown",
   "metadata": {},
   "source": [
    "## Asymptotic notations\n",
    "\n",
    "Assuming we have a algorithm which is defined as $T(n) = 6n^2 + 10n + 9$. To calculate the worst case scenario we can assume $n = \\infty$. In that case, the all of the constants and multipliers become unimportant comparely to $n^2$. We can say that the worst case complexity of this algorithm is $O(n^2)$.\n",
    "\n",
    "Let's conclude this topic with a concrete example, let's asssume we want to write a program that calculates if given number `N` is a **prime number**."
   ]
  },
  {
   "cell_type": "code",
   "execution_count": 2,
   "metadata": {},
   "outputs": [],
   "source": [
    "def is_prime_naive(N):\n",
    "    \"\"\"\n",
    "    Check if a number is prime.\n",
    "    \n",
    "    Worst case, for a prime number it will iterate `N-3` times\n",
    "    which will cause a time complexity of `O(N)`.\n",
    "    \"\"\"\n",
    "                           # No.Operations    Cost\n",
    "    for n in range(2, N):  # 2                n\n",
    "        if N % n == 0:     # 1                1\n",
    "            return False   # 1                1\n",
    "    return True            # 1                1\n",
    "\n",
    "\n",
    "def is_prime(N):\n",
    "    \"\"\"\n",
    "    Check if a number is prime.\n",
    "\n",
    "    If a we can not find an `n` to ` √N` than the number is prime.\n",
    "\n",
    "    Worst case, for a prime number it will iterate ` √N-3` times\n",
    "    which will cause a time complexity of `O(√N)`.\n",
    "    \"\"\"\n",
    "                                            # No.Operations    Cost\n",
    "    for n in range(2, round(math.sqrt(N))): # 2                √n\n",
    "        if N % n == 0:                      # 1                1\n",
    "            return False                    # 1                1\n",
    "    return True                             # 1                1"
   ]
  },
  {
   "cell_type": "markdown",
   "metadata": {},
   "source": [
    "## Benchmark\n",
    "\n",
    "Let's make a small benchmark to test our time complexity estimation and visualize the complexity better."
   ]
  },
  {
   "cell_type": "code",
   "execution_count": 3,
   "metadata": {},
   "outputs": [],
   "source": [
    "funcs = ['is_prime_naive', 'is_prime']\n",
    "orders_n = [11, 101, 1000003, 10000019, 100000007]\n",
    "times_n = {f:[] for f in funcs}\n",
    "\n",
    "for N in orders_n:\n",
    "    for fn in funcs:\n",
    "        times_n[fn].append(min(timeit.Timer('%s(N)' % fn,\n",
    "                           'from __main__ import %s, N' % fn)\n",
    "                            .repeat(repeat=3, number=1)) * 1000)"
   ]
  },
  {
   "cell_type": "code",
   "execution_count": 4,
   "metadata": {},
   "outputs": [
    {
     "data": {
      "image/png": "[encoded data removed]",
      "text/plain": [
       "<matplotlib.figure.Figure at 0x7f8490a48e48>"
      ]
     },
     "metadata": {},
     "output_type": "display_data"
    }
   ],
   "source": [
    "labels = [('is_prime_naive', 'is_prime_naive'),\n",
    "          ('is_prime', 'is_prime')]\n",
    "fig = plt.figure(figsize=(10, 5))\n",
    "\n",
    "for lb in labels:\n",
    "    plt.plot(orders_n, times_n[lb[0]],\n",
    "            alpha=0.5, label=lb[1], marker='o', lw=3)\n",
    "    \n",
    "plt.xlabel('input N')\n",
    "plt.xscale('log')\n",
    "\n",
    "plt.ylabel('time per computation in milliseconds [ms]')\n",
    "plt.legend(loc=2)\n",
    "plt.grid()\n",
    "plt.show()"
   ]
  }
 ],
 "metadata": {
  "kernelspec": {
   "display_name": "Python 3",
   "language": "python",
   "name": "python3"
  },
  "language_info": {
   "codemirror_mode": {
    "name": "ipython",
    "version": 3
   },
   "file_extension": ".py",
   "mimetype": "text/x-python",
   "name": "python",
   "nbconvert_exporter": "python",
   "pygments_lexer": "ipython3",
   "version": "3.6.4"
  }
 },
 "nbformat": 4,
 "nbformat_minor": 2
}
