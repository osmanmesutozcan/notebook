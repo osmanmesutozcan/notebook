{
 "cells": [
  {
   "cell_type": "code",
   "execution_count": 1,
   "metadata": {},
   "outputs": [],
   "source": [
    "import spacy\n",
    "from spacy.lang.en import English\n",
    "from spacy.lang.de import German\n",
    "from spacy.matcher import Matcher\n",
    "\n",
    "nlp = spacy.load('en_core_web_md')"
   ]
  },
  {
   "cell_type": "code",
   "execution_count": 57,
   "metadata": {},
   "outputs": [
    {
     "output_type": "execute_result",
     "data": {
      "text/plain": "['thx', 'a', 'lot']"
     },
     "metadata": {},
     "execution_count": 57
    }
   ],
   "source": [
    "nlp = English()\n",
    "doc = nlp(\"thx a lot\")\n",
    "[token.text for token in doc]"
   ]
  },
  {
   "cell_type": "code",
   "execution_count": 32,
   "metadata": {},
   "outputs": [
    {
     "output_type": "execute_result",
     "data": {
      "text/plain": "[['thx', 'INTJ'], ['a', 'DET'], ['lot', 'NOUN']]"
     },
     "metadata": {},
     "execution_count": 32
    }
   ],
   "source": [
    "doc = nlp(\"thx a lot\")\n",
    "[[token.text, token.pos_] for token in doc]"
   ]
  },
  {
   "cell_type": "code",
   "execution_count": 13,
   "metadata": {},
   "outputs": [
    {
     "output_type": "stream",
     "name": "stdout",
     "text": "Matches: ['iPhone X']\n"
    }
   ],
   "source": [
    "matcher = Matcher(nlp.vocab)\n",
    "doc = nlp(\"Upcoming iPhone X release date leaked as Apple reveals pre-orders\")\n",
    "\n",
    "pattern = [{\"LOWER\": \"iphone\"},{\"LOWER\": \"x\"}]\n",
    "matcher.add(\"IPHONE_X_PATTERN\", None, pattern)\n",
    "\n",
    "matches = matcher(doc)\n",
    "print(\"Matches:\", [doc[start:end].text for match_id, start, end in matches])"
   ]
  },
  {
   "cell_type": "code",
   "execution_count": 19,
   "metadata": {},
   "outputs": [
    {
     "output_type": "stream",
     "name": "stdout",
     "text": "Total matches found:  3\nMatch found:  iOS 7\nMatch found:  iOS 11\nMatch found:  iOS 10\n"
    }
   ],
   "source": [
    "matcher = Matcher(nlp.vocab)\n",
    "doc = nlp(\n",
    "    \"After making the iOS update you won't notice a radical system-wide \"\n",
    "    \"redesign: nothing like the aesthetic upheaval we got with iOS 7. Most of \"\n",
    "    \"iOS 11's furniture remains the same as in iOS 10. But you will discover \"\n",
    "    \"some tweaks once you delve a little deeper.\"\n",
    ")\n",
    "\n",
    "pattern = [{\"LOWER\": \"ios\"}, {\"IS_DIGIT\": True}]\n",
    "\n",
    "matcher.add(\"IOS_VERSION_PATTERN\", None, pattern)\n",
    "matches = matcher(doc)\n",
    "\n",
    "print(\"Total matches found: \", len(matches))\n",
    "\n",
    "for match_id, start, end in matches:\n",
    "    print(\"Match found: \", doc[start:end].text)"
   ]
  },
  {
   "cell_type": "code",
   "execution_count": 11,
   "metadata": {},
   "outputs": [
    {
     "output_type": "stream",
     "name": "stdout",
     "text": "Total matches found: 3\nMatch found: downloaded Fortnite\nMatch found: downloading Minecraft\nMatch found: download Winzip\n"
    }
   ],
   "source": [
    "matcher = Matcher(nlp.vocab)\n",
    "\n",
    "doc = nlp(\n",
    "    \"i downloaded Fortnite on my laptop and can't open the game at all. Help? \"\n",
    "    \"so when I was downloading Minecraft, I got the Windows version where it \"\n",
    "    \"is the '.zip' folder and I used the default program to unpack it... do \"\n",
    "    \"I also need to download Winzip?\"\n",
    ")\n",
    "\n",
    "pattern = [{\"LEMMA\": \"download\"}, {\"POS\": \"PROPN\"}]\n",
    "matcher.add(\"DOWNLOAD_THINGS_PATTERN\", None, pattern)\n",
    "matches = matcher(doc)\n",
    "print(\"Total matches found:\", len(matches))\n",
    "\n",
    "for match_id, start, end in matches:\n",
    "    print(\"Match found:\", doc[start:end].text)\n"
   ]
  },
  {
   "cell_type": "code",
   "execution_count": 26,
   "metadata": {},
   "outputs": [
    {
     "output_type": "execute_result",
     "data": {
      "text/plain": "3197928453018144401"
     },
     "metadata": {},
     "execution_count": 26
    }
   ],
   "source": [
    "nlp.vocab.strings[\"coffee\"]"
   ]
  },
  {
   "cell_type": "code",
   "execution_count": 33,
   "metadata": {},
   "outputs": [
    {
     "output_type": "stream",
     "name": "stdout",
     "text": "Cat hash: 5439657043933447811\nCat str: cat\n"
    }
   ],
   "source": [
    "doc = nlp(\"I have a cat\")\n",
    "\n",
    "cat_hash = doc.vocab.strings[\"cat\"]\n",
    "print(\"Cat hash:\", cat_hash)\n",
    "\n",
    "cat_string = doc.vocab.strings[cat_hash]\n",
    "print(\"Cat str:\", cat_string)"
   ]
  },
  {
   "cell_type": "code",
   "execution_count": 38,
   "metadata": {},
   "outputs": [
    {
     "output_type": "stream",
     "name": "stdout",
     "text": "380\nPERSON\n"
    }
   ],
   "source": [
    "doc = nlp(\"David Bowie is a PERSON\")\n",
    "\n",
    "person_hash = doc.vocab.strings[\"PERSON\"]\n",
    "print(person_hash)\n",
    "\n",
    "person_str = doc.vocab.strings[person_hash]\n",
    "print(person_str)"
   ]
  },
  {
   "cell_type": "code",
   "execution_count": 47,
   "metadata": {},
   "outputs": [
    {
     "output_type": "stream",
     "name": "stdout",
     "text": "2644858412616767388\n"
    }
   ],
   "source": [
    "# Create an English and German nlp object\n",
    "nlp = English()\n",
    "nlp_de = German()\n",
    "\n",
    "# Get the ID for the string 'Bowie'\n",
    "bowie_id = nlp.vocab.strings[\"Bowie\"]\n",
    "print(bowie_id)\n",
    "\n",
    "# Look up the ID for \"Bowie\" in the vocab\n",
    "# print(nlp.vocab.strings[bowie_id])\n"
   ]
  },
  {
   "cell_type": "code",
   "execution_count": 11,
   "metadata": {},
   "outputs": [
    {
     "output_type": "execute_result",
     "data": {
      "text/plain": "0.7619861403753894"
     },
     "metadata": {},
     "execution_count": 11
    }
   ],
   "source": [
    "doc = nlp(\"I love cookies\")\n",
    "doc1 = nlp(\"you hate cake when it rains\")\n",
    "doc.similarity(doc1)"
   ]
  }
 ],
 "metadata": {
  "kernelspec": {
   "display_name": "Python 3.8.1 64-bit ('nlp': venv)",
   "language": "python",
   "name": "python38164bitnlpvenvc787b5c42b9e4854917d73a82e15a277"
  },
  "language_info": {
   "codemirror_mode": {
    "name": "ipython",
    "version": 3
   },
   "file_extension": ".py",
   "mimetype": "text/x-python",
   "name": "python",
   "nbconvert_exporter": "python",
   "pygments_lexer": "ipython3",
   "version": "3.8.1-final"
  }
 },
 "nbformat": 4,
 "nbformat_minor": 4
}